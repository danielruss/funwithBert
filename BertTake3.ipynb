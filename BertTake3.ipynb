{
 "cells": [
  {
   "cell_type": "markdown",
   "metadata": {},
   "source": [
    "Ok this time working with:  https://colab.research.google.com/github/google-research/bert/blob/master/predicting_movie_reviews_with_bert_on_tf_hub.ipynb#scrollTo=SCZWZtKxObjh\n",
    "\n",
    "This uses an old version of bert for tf v1...  using\n",
    "\n",
    "https://pypi.org/project/bert-for-tf2/\n",
    "and\n",
    "https://towardsdatascience.com/simple-bert-using-tensorflow-2-0-132cb19e9b22"
   ]
  },
  {
   "cell_type": "code",
   "execution_count": 3,
   "metadata": {},
   "outputs": [
    {
     "name": "stdout",
     "output_type": "stream",
     "text": [
      "time:  0.1650000000097407  ms.\n"
     ]
    }
   ],
   "source": [
    "from tensorflow.keras import layers\n",
    "import tensorflow_hub as hub\n",
    "import tensorflow as tf\n",
    "\n",
    "import pandas as pd\n",
    "import numpy as np\n",
    "import bert\n",
    "\n",
    "import re\n",
    "import random\n",
    "import math\n",
    "import hashlib\n",
    "import time\n",
    "import matplotlib\n",
    "import copy\n",
    "\n",
    "\n",
    "t0 = time.process_time()\n",
    "\n",
    "TAG_RE = re.compile(r'<[^>]+>')\n",
    "\n",
    "def remove_tags(text):\n",
    "    return TAG_RE.sub('', text)\n",
    "\n",
    "def preprocess_text(sen):\n",
    "    # Removing html tags\n",
    "    sentence = remove_tags(sen)\n",
    "\n",
    "    # Remove punctuations and numbers\n",
    "    sentence = re.sub('[^a-zA-Z]', ' ', sentence)\n",
    "\n",
    "    # Single character removal\n",
    "    sentence = re.sub(r\"\\s+[a-zA-Z]\\s+\", ' ', sentence)\n",
    "\n",
    "    # Removing multiple spaces\n",
    "    sentence = re.sub(r'\\s+', ' ', sentence)\n",
    "    \n",
    "    return sentence\n",
    "\n",
    "t1 = time.process_time()\n",
    "print(\"time: \",(t1-t0)*1000,\" ms.\" )"
   ]
  },
  {
   "cell_type": "code",
   "execution_count": 4,
   "metadata": {},
   "outputs": [
    {
     "name": "stdout",
     "output_type": "stream",
     "text": [
      "(45380, 6)\n",
      "(4620, 6)\n",
      "time:  163.569081  sec\n"
     ]
    }
   ],
   "source": [
    "t0 = time.process_time()\n",
    "\n",
    "# load the data\n",
    "movie_reviews = pd.read_csv(\"/Users/druss/Downloads/IMDB Dataset.csv\")\n",
    "movie_reviews.shape\n",
    "\n",
    "# preprocess the data\n",
    "reviews = []\n",
    "sentences = list(movie_reviews['review'])\n",
    "for sen in sentences:\n",
    "    reviews.append(preprocess_text(sen))\n",
    "\n",
    "# get the labels...\n",
    "y = np.array(list(map(lambda x: 1 if x==\"positive\" else 0, movie_reviews['sentiment'])))\n",
    "\n",
    "# tokenzize the data...\n",
    "BertTokenizer = bert.bert_tokenization.FullTokenizer\n",
    "bert_layer = hub.KerasLayer(\"https://tfhub.dev/tensorflow/bert_en_uncased_L-12_H-768_A-12/1\",\n",
    "                            trainable=False)\n",
    "vocabulary_file = bert_layer.resolved_object.vocab_file.asset_path.numpy()\n",
    "to_lower_case = bert_layer.resolved_object.do_lower_case.numpy()\n",
    "tokenizer = BertTokenizer(vocabulary_file, to_lower_case)\n",
    "\n",
    "# create a function for tokenizing reviews...\n",
    "def tokenize_reviews(text_reviews):\n",
    "    return tokenizer.convert_tokens_to_ids(tokenizer.tokenize(text_reviews))\n",
    "\n",
    "tokenized_reviews = [tokenize_reviews(review) for review in reviews]\n",
    "\n",
    "random.seed(4);\n",
    "reviews_with_len = [[review, y[i], len(review)]\n",
    "                 for i, review in enumerate(tokenized_reviews)]\n",
    "random.shuffle(reviews_with_len)\n",
    "\n",
    "reviews_with_len.sort(key=lambda x: x[2])\n",
    "sorted_reviews_labels = [(review_lab[0], review_lab[1]) for review_lab in reviews_with_len]\n",
    "\n",
    "#processed_dataset = tf.data.Dataset.from_generator(lambda: sorted_reviews_labels, output_types=(tf.int32, tf.int32))\n",
    "#BATCH_SIZE = 32\n",
    "#batched_dataset = processed_dataset.padded_batch(BATCH_SIZE, padded_shapes=((None, ), ()))\n",
    "\n",
    "#TOTAL_BATCHES = math.ceil(len(sorted_reviews_labels) / BATCH_SIZE)\n",
    "#TEST_BATCHES = TOTAL_BATCHES // 10\n",
    "#batched_dataset.shuffle(TOTAL_BATCHES)\n",
    "#test_data = batched_dataset.take(TEST_BATCHES)\n",
    "#train_data = batched_dataset.skip(TEST_BATCHES)\n",
    "\n",
    "\n",
    "zz=pd.DataFrame( {\n",
    "    \"text\":pd.Series(reviews), \n",
    "    \"tokens\":pd.Series(copy.deepcopy(tokenized_reviews)), \n",
    "    \"label\":pd.Series(y)\n",
    "})\n",
    "zz[\"len\"] = [ len(x) for x in zz[\"tokens\"] ]\n",
    "\n",
    "# split the data into Train/test based on the md5 hash...\n",
    "zz[\"hash\"] = [ hashlib.md5(x.encode('ascii')).hexdigest() for x in zz[\"text\"] ]\n",
    "zz[\"Test\"] = [ (int(x,16) % 100 > 90) for x in zz[\"hash\"]]\n",
    "train_data = copy.deepcopy( zz[zz[\"Test\"] != True] )\n",
    "test_data = copy.deepcopy( zz[zz[\"Test\"] == True] )\n",
    "print(train_data.shape)\n",
    "print(test_data.shape)\n",
    "\n",
    "t1 = time.process_time()\n",
    "print(\"time: \",(t1-t0),\" sec\" )"
   ]
  },
  {
   "cell_type": "markdown",
   "metadata": {},
   "source": [
    "Ok following the step in BertTake2,  we are now at the point where we are ready to build models"
   ]
  },
  {
   "cell_type": "markdown",
   "metadata": {},
   "source": [
    "Filter both the training/testing data so that no input has more than 300 tokens...\n",
    "300 was chosen be 75% of the Test/Train data has less than 300 tokens.\n",
    "\n",
    "consider truncating the tokens to the first 300..."
   ]
  },
  {
   "cell_type": "code",
   "execution_count": 5,
   "metadata": {},
   "outputs": [
    {
     "data": {
      "text/plain": [
       "count    45380.000000\n",
       "mean       236.185963\n",
       "std        177.779214\n",
       "min          6.000000\n",
       "25%        127.000000\n",
       "50%        176.000000\n",
       "75%        286.000000\n",
       "max       2615.000000\n",
       "Name: len, dtype: float64"
      ]
     },
     "metadata": {},
     "output_type": "display_data"
    },
    {
     "data": {
      "text/plain": [
       "<matplotlib.axes._subplots.AxesSubplot at 0x6a0758050>"
      ]
     },
     "metadata": {},
     "output_type": "display_data"
    },
    {
     "data": {
      "text/plain": [
       "count    4620.000000\n",
       "mean      239.057143\n",
       "std       182.112432\n",
       "min        17.000000\n",
       "25%       127.000000\n",
       "50%       176.000000\n",
       "75%       291.250000\n",
       "max      1768.000000\n",
       "Name: len, dtype: float64"
      ]
     },
     "metadata": {},
     "output_type": "display_data"
    },
    {
     "data": {
      "text/plain": [
       "<matplotlib.axes._subplots.AxesSubplot at 0x6a0758050>"
      ]
     },
     "execution_count": 5,
     "metadata": {},
     "output_type": "execute_result"
    },
    {
     "data": {
      "image/png": "[encoded data removed]",
      "text/plain": [
       "<Figure size 432x288 with 1 Axes>"
      ]
     },
     "metadata": {
      "needs_background": "light"
     },
     "output_type": "display_data"
    }
   ],
   "source": [
    "tmp = train_data.groupby(\"len\").size()\n",
    "display(train_data[\"len\"].describe())\n",
    "display(tmp.plot())\n",
    "\n",
    "tmp1 = test_data.groupby(\"len\").size()\n",
    "display(test_data[\"len\"].describe())\n",
    "tmp1.plot()"
   ]
  },
  {
   "cell_type": "code",
   "execution_count": 6,
   "metadata": {},
   "outputs": [
    {
     "name": "stdout",
     "output_type": "stream",
     "text": [
      "(45380, 6)\n",
      "(4620, 6)\n",
      "time:  170.126269  sec\n"
     ]
    }
   ],
   "source": [
    "## fix zz...\n",
    "\n",
    "import copy\n",
    "zz=pd.DataFrame( {\n",
    "    \"text\":pd.Series(reviews), \n",
    "    \"tokens\":pd.Series(copy.deepcopy(tokenized_reviews)), \n",
    "    \"label\":pd.Series(y)\n",
    "})\n",
    "zz[\"len\"] = [ len(x) for x in zz[\"tokens\"] ]\n",
    "\n",
    "# split the data into Train/test based on the md5 hash...\n",
    "zz[\"hash\"] = [ hashlib.md5(x.encode('ascii')).hexdigest() for x in zz[\"text\"] ]\n",
    "zz[\"Test\"] = [ (int(x,16) % 100 > 90) for x in zz[\"hash\"]]\n",
    "\n",
    "train_data = copy.deepcopy(zz)[zz[\"Test\"] == False] \n",
    "test_data =  copy.deepcopy(zz)[zz[\"Test\"] == True] \n",
    "print(train_data.shape)\n",
    "print(test_data.shape)\n",
    "\n",
    "t1 = time.process_time()\n",
    "print(\"time: \",(t1-t0),\" sec\" )\n"
   ]
  },
  {
   "cell_type": "markdown",
   "metadata": {},
   "source": [
    "Add the Start/End tokens..."
   ]
  },
  {
   "cell_type": "code",
   "execution_count": 7,
   "metadata": {},
   "outputs": [
    {
     "name": "stdout",
     "output_type": "stream",
     "text": [
      "tokenized_reviews: [1045, 2469, 2052, 2066, 2000, 2156, 15218, 1997, 2039, 6052] len: 155\n",
      "zz: [1045, 2469, 2052, 2066, 2000, 2156, 15218, 1997, 2039, 6052] len: 155\n",
      "test_data: [101, 1045, 2469, 2052, 2066, 2000, 2156, 15218, 1997, 2039] len: 157\n",
      "train_data: [101, 2028, 1997, 1996, 2060, 15814, 2038, 3855, 2008, 2044] len: 300\n"
     ]
    }
   ],
   "source": [
    "## reset the training data ...\n",
    "train_data = copy.deepcopy(zz)\n",
    "train_data = train_data[train_data[\"Test\"] == False ]\n",
    "test_data = copy.deepcopy(zz)\n",
    "test_data = test_data[test_data[\"Test\"] == True]\n",
    "\n",
    "def addSpecialTokens(lst,maxValues):\n",
    "    lst=lst[:maxValues-2]\n",
    "    lst.insert(0,101)\n",
    "    lst.append(102)\n",
    "    return lst;\n",
    "\n",
    "#test_data[\"tokens\"].apply(lambda x:x.insert(0,1))\n",
    "test_data[\"tokens\"]=test_data[\"tokens\"].apply(addSpecialTokens,args=(300,))\n",
    "train_data[\"tokens\"]=train_data[\"tokens\"].apply(addSpecialTokens,args=(300,))\n",
    "\n",
    "# print the values out ....\n",
    "print(\"tokenized_reviews:\",tokenized_reviews[6][0:10],\"len:\",len(tokenized_reviews[6]))\n",
    "print(\"zz:\",zz.iloc[6,1][0:10],\"len:\",len(zz.iloc[6,1]))\n",
    "print(\"test_data:\",test_data.iloc[0,1][0:10],\"len:\",len(test_data.iloc[0,1]))\n",
    "\n",
    "print(\"train_data:\",train_data.iloc[0,1][0:10],\"len:\",len(train_data.iloc[0,1]))"
   ]
  },
  {
   "cell_type": "code",
   "execution_count": 8,
   "metadata": {},
   "outputs": [
    {
     "name": "stdout",
     "output_type": "stream",
     "text": [
      "time:  0.005697999999995318  sec\n"
     ]
    }
   ],
   "source": [
    "t0 = time.process_time()\n",
    "model_dir = \"/Users/druss/Downloads/uncased_L-12_H-768_A-12\"\n",
    "\n",
    "bert_params = bert.params_from_pretrained_ckpt(model_dir)\n",
    "l_bert = bert.BertModelLayer.from_params(bert_params, name=\"bert\")\n",
    "\n",
    "t1 = time.process_time()\n",
    "print(\"time: \",(t1-t0),\" sec\" )"
   ]
  },
  {
   "cell_type": "code",
   "execution_count": 9,
   "metadata": {
    "scrolled": true
   },
   "outputs": [
    {
     "name": "stdout",
     "output_type": "stream",
     "text": [
      "Done loading 196 BERT weights from: /Users/druss/Downloads/uncased_L-12_H-768_A-12/bert_model.ckpt into <bert.model.BertModelLayer object at 0x6a0e550d0> (prefix:bert). Count of weights not found in the checkpoint was: [0]. Count of weights with mismatched shape: [0]\n",
      "Unused weights from checkpoint: \n",
      "\tbert/embeddings/token_type_embeddings\n",
      "\tbert/pooler/dense/bias\n",
      "\tbert/pooler/dense/kernel\n",
      "\tcls/predictions/output_bias\n",
      "\tcls/predictions/transform/LayerNorm/beta\n",
      "\tcls/predictions/transform/LayerNorm/gamma\n",
      "\tcls/predictions/transform/dense/bias\n",
      "\tcls/predictions/transform/dense/kernel\n",
      "\tcls/seq_relationship/output_bias\n",
      "\tcls/seq_relationship/output_weights\n",
      "time:  21.638244999999984  sec\n"
     ]
    }
   ],
   "source": [
    "t0 = time.process_time()\n",
    "\n",
    "import os\n",
    "from tensorflow import keras\n",
    "\n",
    "max_seq_len = 300\n",
    "l_input_ids      = keras.layers.Input(shape=(max_seq_len,), dtype='int32')\n",
    "l_token_type_ids = keras.layers.Input(shape=(max_seq_len,), dtype='int32')\n",
    "\n",
    "# using the default token_type/segment id 0\n",
    "output = l_bert(l_input_ids)                              # output: [batch_size, max_seq_len, hidden_size]\n",
    "model = keras.Model(inputs=l_input_ids, outputs=output)\n",
    "model.build(input_shape=(None, max_seq_len))\n",
    "\n",
    "bert_ckpt_file   = os.path.join(model_dir, \"bert_model.ckpt\")\n",
    "bert.load_stock_weights(l_bert, bert_ckpt_file)\n",
    "\n",
    "t1 = time.process_time()\n",
    "print(\"time: \",(t1-t0),\" sec\" )"
   ]
  },
  {
   "cell_type": "markdown",
   "metadata": {},
   "source": [
    "ok, we now have the pretrained bert model loaded...  we need get the input in a format bert can ingest.  We need masks to ignore tokens in the sentence that are longer than the max seq length. (which we define in the cell above as 300)\n"
   ]
  },
  {
   "cell_type": "code",
   "execution_count": 12,
   "metadata": {},
   "outputs": [],
   "source": [
    "def get_masks(tokens, max_seq_length):\n",
    "    return [1]*len(tokens) + [0] * (max_seq_length - len(tokens))\n",
    "\n",
    "\n",
    "def get_segments(tokens, max_seq_length):\n",
    "    return  [0] * (max_seq_length )\n",
    "\n",
    "\n",
    "\n",
    "def pad_tokens(tokens,max_seq_length):\n",
    "    padded = tokens + [0]*(max_seq_length - len(tokens))\n",
    "    return padded"
   ]
  },
  {
   "cell_type": "code",
   "execution_count": 13,
   "metadata": {},
   "outputs": [],
   "source": [
    "MAX_SEQ_LEN=300\n",
    "# before we pad the data, make a mask and segments, which are all 0 in our case ...\n",
    "test_data[\"mask\"] = test_data.iloc[:,1].apply(get_masks,args=(MAX_SEQ_LEN,))\n",
    "train_data[\"mask\"] = train_data.iloc[:,1].apply(get_masks,args=(MAX_SEQ_LEN,))\n",
    "\n",
    "# one of bert's training has does sentence 2 follow sentence 1.\n",
    "# we are not useing that method, so just fill the array with 0.\n",
    "test_data[\"segments\"] = test_data.iloc[:,1].apply(get_segments,args=(MAX_SEQ_LEN,))\n",
    "train_data[\"segments\"] = train_data.iloc[:,1].apply(get_segments,args=(MAX_SEQ_LEN,))\n",
    "\n",
    "\n",
    "### Pad the data (Tokens only)...\n",
    "test_data.iloc[:,1] = test_data.iloc[:,1].apply(pad_tokens,args=(MAX_SEQ_LEN,))\n",
    "train_data.iloc[:,1] = train_data.iloc[:,1].apply(pad_tokens,args=(MAX_SEQ_LEN,))\n"
   ]
  },
  {
   "cell_type": "code",
   "execution_count": 14,
   "metadata": {},
   "outputs": [
    {
     "data": {
      "text/plain": [
       "<bound method Model.predict of <tensorflow.python.keras.engine.training.Model object at 0x6a0e08c90>>"
      ]
     },
     "execution_count": 14,
     "metadata": {},
     "output_type": "execute_result"
    }
   ],
   "source": [
    "model.predict"
   ]
  },
  {
   "cell_type": "code",
   "execution_count": 15,
   "metadata": {},
   "outputs": [
    {
     "data": {
      "text/html": [
       "<div>\n",
       "<style scoped>\n",
       "    .dataframe tbody tr th:only-of-type {\n",
       "        vertical-align: middle;\n",
       "    }\n",
       "\n",
       "    .dataframe tbody tr th {\n",
       "        vertical-align: top;\n",
       "    }\n",
       "\n",
       "    .dataframe thead th {\n",
       "        text-align: right;\n",
       "    }\n",
       "</style>\n",
       "<table border=\"1\" class=\"dataframe\">\n",
       "  <thead>\n",
       "    <tr style=\"text-align: right;\">\n",
       "      <th></th>\n",
       "      <th>text</th>\n",
       "      <th>tokens</th>\n",
       "      <th>label</th>\n",
       "      <th>len</th>\n",
       "      <th>hash</th>\n",
       "      <th>Test</th>\n",
       "      <th>mask</th>\n",
       "      <th>segments</th>\n",
       "    </tr>\n",
       "  </thead>\n",
       "  <tbody>\n",
       "    <tr>\n",
       "      <th>6</th>\n",
       "      <td>I sure would like to see resurrection of up da...</td>\n",
       "      <td>[101, 1045, 2469, 2052, 2066, 2000, 2156, 1521...</td>\n",
       "      <td>1</td>\n",
       "      <td>155</td>\n",
       "      <td>c5c4cf73513dcc56ffa4407cb8f122a4</td>\n",
       "      <td>True</td>\n",
       "      <td>[1, 1, 1, 1, 1, 1, 1, 1, 1, 1, 1, 1, 1, 1, 1, ...</td>\n",
       "      <td>[0, 0, 0, 0, 0, 0, 0, 0, 0, 0, 0, 0, 0, 0, 0, ...</td>\n",
       "    </tr>\n",
       "    <tr>\n",
       "      <th>42</th>\n",
       "      <td>Of all the films have seen this one The Rage h...</td>\n",
       "      <td>[101, 1997, 2035, 1996, 3152, 2031, 2464, 2023...</td>\n",
       "      <td>0</td>\n",
       "      <td>176</td>\n",
       "      <td>918df352afa5d7e2a748646b72ce60a7</td>\n",
       "      <td>True</td>\n",
       "      <td>[1, 1, 1, 1, 1, 1, 1, 1, 1, 1, 1, 1, 1, 1, 1, ...</td>\n",
       "      <td>[0, 0, 0, 0, 0, 0, 0, 0, 0, 0, 0, 0, 0, 0, 0, ...</td>\n",
       "    </tr>\n",
       "    <tr>\n",
       "      <th>49</th>\n",
       "      <td>Average and surprisingly tame Fulci giallo whi...</td>\n",
       "      <td>[101, 2779, 1998, 10889, 24763, 11865, 15472, ...</td>\n",
       "      <td>0</td>\n",
       "      <td>109</td>\n",
       "      <td>a413870abe8e351ce249fe335d9f49c3</td>\n",
       "      <td>True</td>\n",
       "      <td>[1, 1, 1, 1, 1, 1, 1, 1, 1, 1, 1, 1, 1, 1, 1, ...</td>\n",
       "      <td>[0, 0, 0, 0, 0, 0, 0, 0, 0, 0, 0, 0, 0, 0, 0, ...</td>\n",
       "    </tr>\n",
       "    <tr>\n",
       "      <th>63</th>\n",
       "      <td>Besides being boring the scenes were oppressiv...</td>\n",
       "      <td>[101, 4661, 2108, 11771, 1996, 5019, 2020, 285...</td>\n",
       "      <td>0</td>\n",
       "      <td>52</td>\n",
       "      <td>d6a8db3df658403e551729e62e252449</td>\n",
       "      <td>True</td>\n",
       "      <td>[1, 1, 1, 1, 1, 1, 1, 1, 1, 1, 1, 1, 1, 1, 1, ...</td>\n",
       "      <td>[0, 0, 0, 0, 0, 0, 0, 0, 0, 0, 0, 0, 0, 0, 0, ...</td>\n",
       "    </tr>\n",
       "    <tr>\n",
       "      <th>70</th>\n",
       "      <td>Caddyshack Two is good movie by itself but com...</td>\n",
       "      <td>[101, 28353, 5149, 7377, 3600, 2048, 2003, 220...</td>\n",
       "      <td>0</td>\n",
       "      <td>244</td>\n",
       "      <td>c88650c3f57fa56441954230f7f6bfd1</td>\n",
       "      <td>True</td>\n",
       "      <td>[1, 1, 1, 1, 1, 1, 1, 1, 1, 1, 1, 1, 1, 1, 1, ...</td>\n",
       "      <td>[0, 0, 0, 0, 0, 0, 0, 0, 0, 0, 0, 0, 0, 0, 0, ...</td>\n",
       "    </tr>\n",
       "    <tr>\n",
       "      <th>...</th>\n",
       "      <td>...</td>\n",
       "      <td>...</td>\n",
       "      <td>...</td>\n",
       "      <td>...</td>\n",
       "      <td>...</td>\n",
       "      <td>...</td>\n",
       "      <td>...</td>\n",
       "      <td>...</td>\n",
       "    </tr>\n",
       "    <tr>\n",
       "      <th>49959</th>\n",
       "      <td>My thoughts on the movie It was not good not g...</td>\n",
       "      <td>[101, 2026, 4301, 2006, 1996, 3185, 2009, 2001...</td>\n",
       "      <td>0</td>\n",
       "      <td>600</td>\n",
       "      <td>990a38643201beeec2f631f932a1089d</td>\n",
       "      <td>True</td>\n",
       "      <td>[1, 1, 1, 1, 1, 1, 1, 1, 1, 1, 1, 1, 1, 1, 1, ...</td>\n",
       "      <td>[0, 0, 0, 0, 0, 0, 0, 0, 0, 0, 0, 0, 0, 0, 0, ...</td>\n",
       "    </tr>\n",
       "    <tr>\n",
       "      <th>49963</th>\n",
       "      <td>If you like really shocking movies this is for...</td>\n",
       "      <td>[101, 2065, 2017, 2066, 2428, 16880, 5691, 202...</td>\n",
       "      <td>0</td>\n",
       "      <td>65</td>\n",
       "      <td>6ef33ea069803a156c0b36352559a890</td>\n",
       "      <td>True</td>\n",
       "      <td>[1, 1, 1, 1, 1, 1, 1, 1, 1, 1, 1, 1, 1, 1, 1, ...</td>\n",
       "      <td>[0, 0, 0, 0, 0, 0, 0, 0, 0, 0, 0, 0, 0, 0, 0, ...</td>\n",
       "    </tr>\n",
       "    <tr>\n",
       "      <th>49964</th>\n",
       "      <td>I saw this last week during Bruce Campbell boo...</td>\n",
       "      <td>[101, 1045, 2387, 2023, 2197, 2733, 2076, 5503...</td>\n",
       "      <td>1</td>\n",
       "      <td>227</td>\n",
       "      <td>8f36c2e162da5eadbbc0e7e6046b869b</td>\n",
       "      <td>True</td>\n",
       "      <td>[1, 1, 1, 1, 1, 1, 1, 1, 1, 1, 1, 1, 1, 1, 1, ...</td>\n",
       "      <td>[0, 0, 0, 0, 0, 0, 0, 0, 0, 0, 0, 0, 0, 0, 0, ...</td>\n",
       "    </tr>\n",
       "    <tr>\n",
       "      <th>49983</th>\n",
       "      <td>I loved it having been fan of the original ser...</td>\n",
       "      <td>[101, 1045, 3866, 2009, 2383, 2042, 5470, 1997...</td>\n",
       "      <td>1</td>\n",
       "      <td>127</td>\n",
       "      <td>d365dcede861bf5ae05584760b70388d</td>\n",
       "      <td>True</td>\n",
       "      <td>[1, 1, 1, 1, 1, 1, 1, 1, 1, 1, 1, 1, 1, 1, 1, ...</td>\n",
       "      <td>[0, 0, 0, 0, 0, 0, 0, 0, 0, 0, 0, 0, 0, 0, 0, ...</td>\n",
       "    </tr>\n",
       "    <tr>\n",
       "      <th>49991</th>\n",
       "      <td>Les Visiteurs the first movie about the mediev...</td>\n",
       "      <td>[101, 4649, 3942, 26744, 1996, 2034, 3185, 205...</td>\n",
       "      <td>0</td>\n",
       "      <td>266</td>\n",
       "      <td>81020ce854a475965055470d4305e9ab</td>\n",
       "      <td>True</td>\n",
       "      <td>[1, 1, 1, 1, 1, 1, 1, 1, 1, 1, 1, 1, 1, 1, 1, ...</td>\n",
       "      <td>[0, 0, 0, 0, 0, 0, 0, 0, 0, 0, 0, 0, 0, 0, 0, ...</td>\n",
       "    </tr>\n",
       "  </tbody>\n",
       "</table>\n",
       "<p>4620 rows × 8 columns</p>\n",
       "</div>"
      ],
      "text/plain": [
       "                                                    text  \\\n",
       "6      I sure would like to see resurrection of up da...   \n",
       "42     Of all the films have seen this one The Rage h...   \n",
       "49     Average and surprisingly tame Fulci giallo whi...   \n",
       "63     Besides being boring the scenes were oppressiv...   \n",
       "70     Caddyshack Two is good movie by itself but com...   \n",
       "...                                                  ...   \n",
       "49959  My thoughts on the movie It was not good not g...   \n",
       "49963  If you like really shocking movies this is for...   \n",
       "49964  I saw this last week during Bruce Campbell boo...   \n",
       "49983  I loved it having been fan of the original ser...   \n",
       "49991  Les Visiteurs the first movie about the mediev...   \n",
       "\n",
       "                                                  tokens  label  len  \\\n",
       "6      [101, 1045, 2469, 2052, 2066, 2000, 2156, 1521...      1  155   \n",
       "42     [101, 1997, 2035, 1996, 3152, 2031, 2464, 2023...      0  176   \n",
       "49     [101, 2779, 1998, 10889, 24763, 11865, 15472, ...      0  109   \n",
       "63     [101, 4661, 2108, 11771, 1996, 5019, 2020, 285...      0   52   \n",
       "70     [101, 28353, 5149, 7377, 3600, 2048, 2003, 220...      0  244   \n",
       "...                                                  ...    ...  ...   \n",
       "49959  [101, 2026, 4301, 2006, 1996, 3185, 2009, 2001...      0  600   \n",
       "49963  [101, 2065, 2017, 2066, 2428, 16880, 5691, 202...      0   65   \n",
       "49964  [101, 1045, 2387, 2023, 2197, 2733, 2076, 5503...      1  227   \n",
       "49983  [101, 1045, 3866, 2009, 2383, 2042, 5470, 1997...      1  127   \n",
       "49991  [101, 4649, 3942, 26744, 1996, 2034, 3185, 205...      0  266   \n",
       "\n",
       "                                   hash  Test  \\\n",
       "6      c5c4cf73513dcc56ffa4407cb8f122a4  True   \n",
       "42     918df352afa5d7e2a748646b72ce60a7  True   \n",
       "49     a413870abe8e351ce249fe335d9f49c3  True   \n",
       "63     d6a8db3df658403e551729e62e252449  True   \n",
       "70     c88650c3f57fa56441954230f7f6bfd1  True   \n",
       "...                                 ...   ...   \n",
       "49959  990a38643201beeec2f631f932a1089d  True   \n",
       "49963  6ef33ea069803a156c0b36352559a890  True   \n",
       "49964  8f36c2e162da5eadbbc0e7e6046b869b  True   \n",
       "49983  d365dcede861bf5ae05584760b70388d  True   \n",
       "49991  81020ce854a475965055470d4305e9ab  True   \n",
       "\n",
       "                                                    mask  \\\n",
       "6      [1, 1, 1, 1, 1, 1, 1, 1, 1, 1, 1, 1, 1, 1, 1, ...   \n",
       "42     [1, 1, 1, 1, 1, 1, 1, 1, 1, 1, 1, 1, 1, 1, 1, ...   \n",
       "49     [1, 1, 1, 1, 1, 1, 1, 1, 1, 1, 1, 1, 1, 1, 1, ...   \n",
       "63     [1, 1, 1, 1, 1, 1, 1, 1, 1, 1, 1, 1, 1, 1, 1, ...   \n",
       "70     [1, 1, 1, 1, 1, 1, 1, 1, 1, 1, 1, 1, 1, 1, 1, ...   \n",
       "...                                                  ...   \n",
       "49959  [1, 1, 1, 1, 1, 1, 1, 1, 1, 1, 1, 1, 1, 1, 1, ...   \n",
       "49963  [1, 1, 1, 1, 1, 1, 1, 1, 1, 1, 1, 1, 1, 1, 1, ...   \n",
       "49964  [1, 1, 1, 1, 1, 1, 1, 1, 1, 1, 1, 1, 1, 1, 1, ...   \n",
       "49983  [1, 1, 1, 1, 1, 1, 1, 1, 1, 1, 1, 1, 1, 1, 1, ...   \n",
       "49991  [1, 1, 1, 1, 1, 1, 1, 1, 1, 1, 1, 1, 1, 1, 1, ...   \n",
       "\n",
       "                                                segments  \n",
       "6      [0, 0, 0, 0, 0, 0, 0, 0, 0, 0, 0, 0, 0, 0, 0, ...  \n",
       "42     [0, 0, 0, 0, 0, 0, 0, 0, 0, 0, 0, 0, 0, 0, 0, ...  \n",
       "49     [0, 0, 0, 0, 0, 0, 0, 0, 0, 0, 0, 0, 0, 0, 0, ...  \n",
       "63     [0, 0, 0, 0, 0, 0, 0, 0, 0, 0, 0, 0, 0, 0, 0, ...  \n",
       "70     [0, 0, 0, 0, 0, 0, 0, 0, 0, 0, 0, 0, 0, 0, 0, ...  \n",
       "...                                                  ...  \n",
       "49959  [0, 0, 0, 0, 0, 0, 0, 0, 0, 0, 0, 0, 0, 0, 0, ...  \n",
       "49963  [0, 0, 0, 0, 0, 0, 0, 0, 0, 0, 0, 0, 0, 0, 0, ...  \n",
       "49964  [0, 0, 0, 0, 0, 0, 0, 0, 0, 0, 0, 0, 0, 0, 0, ...  \n",
       "49983  [0, 0, 0, 0, 0, 0, 0, 0, 0, 0, 0, 0, 0, 0, 0, ...  \n",
       "49991  [0, 0, 0, 0, 0, 0, 0, 0, 0, 0, 0, 0, 0, 0, 0, ...  \n",
       "\n",
       "[4620 rows x 8 columns]"
      ]
     },
     "execution_count": 15,
     "metadata": {},
     "output_type": "execute_result"
    }
   ],
   "source": [
    "test_data"
   ]
  },
  {
   "cell_type": "code",
   "execution_count": null,
   "metadata": {},
   "outputs": [],
   "source": [
    "input_tokens   = test_data.loc[:,\"tokens\"].tolist()\n",
    "input_masks    = test_data.loc[:,\"mask\"].tolist()\n",
    "input_segments = test_data.loc[:,\"segments\"].tolist()\n",
    "\n",
    "pool_embs, all_embs = model.predict([[input_tokens][0],[input_masks][0],[input_segments][0]])"
   ]
  },
  {
   "cell_type": "code",
   "execution_count": null,
   "metadata": {},
   "outputs": [],
   "source": []
  }
 ],
 "metadata": {
  "kernelspec": {
   "display_name": "Python 3",
   "language": "python",
   "name": "python3"
  },
  "language_info": {
   "codemirror_mode": {
    "name": "ipython",
    "version": 3
   },
   "file_extension": ".py",
   "mimetype": "text/x-python",
   "name": "python",
   "nbconvert_exporter": "python",
   "pygments_lexer": "ipython3",
   "version": "3.7.6"
  }
 },
 "nbformat": 4,
 "nbformat_minor": 4
}
